{
 "cells": [
  {
   "cell_type": "code",
   "execution_count": 171,
   "metadata": {},
   "outputs": [],
   "source": [
    "# Libraries\n",
    "import os\n",
    "import random\n",
    "from datetime import datetime, date, timedelta\n",
    "from typing import Dict, List, Tuple, Union\n",
    "from pathlib import Path\n",
    "import pandas as pd\n",
    "import xarray as xr\n",
    "import numpy as np\n",
    "import matplotlib.pyplot as plt\n",
    "import seaborn as sns"
   ]
  },
  {
   "cell_type": "code",
   "execution_count": 158,
   "metadata": {},
   "outputs": [],
   "source": [
    "class dataops():\n",
    "    def __init__(self)->None:\n",
    "        \"\"\"\"\"\"\n",
    "        pass\n",
    "\n",
    "    def set_path(self,\n",
    "                downlods_path:Path[Union, str],\n",
    "                metafilename:str,\n",
    "                netcdffilename:str)-> None:\n",
    "                \"\"\"\"\n",
    "                Args:\n",
    "                downloads_path = Set the path where the downloaded meta and netcdf files are\n",
    "                metafilename = input the metadata file name inclusing extension(.csv)\n",
    "                netcdffilename = as suggested above including the extension(.netcdf)\n",
    "                \"\"\"\"\n",
    "                #Setting the path and loading the datasets\n",
    "                # downlods_path = Path(r\"c:\\\\Users\\\\vardh\\\\OneDrive - University of Leicester\\\\OCF\\\\Git_repos\\\\downloads\")\n",
    "                self.dl_path = downlods_path\n",
    "                self.uk_pv_meta_path = Path(os.path.join(self.dl_path, metafilename))\n",
    "                self.uk_pv_netcdf_path = Path(os.path.join(self.dl_path, netcdffilename)) \n",
    "    \n",
    "    def load_data(self)->None:\n",
    "        \"\"\"\"\n",
    "        Reading the data into variables\n",
    "        \"\"\"\"\n",
    "        dataops.metadata_df = pd.read_csv(self.uk_pv_meta_path.as_posix())\n",
    "        dataops.pv_power = xr.open_dataset(self.uk_pv_netcdf_path.as_posix(), engine=\"h5netcdf\")\n",
    "\n",
    "if __name__ == \"__main__\":\n",
    "    dops = dataops()\n",
    "    dops.set_path(downlods_path = r\"c:\\\\Users\\\\vardh\\\\OneDrive - University of Leicester\\\\OCF\\\\Git_repos\\\\downloads\",\n",
    "                metafilename = \"uk_pv_metadata.csv\",\n",
    "                netcdffilename = \"uk_pv_netcdf.netcdf\")\n",
    "    dops.load_data()"
   ]
  },
  {
   "cell_type": "code",
   "execution_count": 237,
   "metadata": {},
   "outputs": [
    {
     "name": "stdout",
     "output_type": "stream",
     "text": [
      "Randomly selected SSID is  2793\n",
      "Randomly selected date is 2019-05-31\n",
      "                     2793\n",
      "datetime                 \n",
      "2019-05-31 00:05:00   NaN\n",
      "2019-05-31 00:10:00   NaN\n",
      "2019-05-31 00:15:00   NaN\n",
      "2019-05-31 00:20:00   NaN\n",
      "2019-05-31 00:25:00   NaN\n",
      "...                   ...\n",
      "2019-05-31 23:35:00   NaN\n",
      "2019-05-31 23:40:00   NaN\n",
      "2019-05-31 23:45:00   NaN\n",
      "2019-05-31 23:50:00   NaN\n",
      "2019-05-31 23:55:00   NaN\n",
      "\n",
      "[287 rows x 1 columns]\n"
     ]
    },
    {
     "data": {
      "image/png": "[encoded data removed]",
      "text/plain": [
       "<Figure size 640x480 with 1 Axes>"
      ]
     },
     "metadata": {},
     "output_type": "display_data"
    }
   ],
   "source": [
    "class xr_df():\n",
    "    def __init__(self):\n",
    "        \"\"\"\"\"\"\n",
    "        pass\n",
    "    \n",
    "    def random_choice(self)->None:\n",
    "        \"\"\"\n",
    "        Randomly selects an SSID and date from xarray dataset\n",
    "        \"\"\"\n",
    "        self.dates_lst = dataops.pv_power.coords[\"datetime\"].values\n",
    "        self.dates_lst = [pd.to_datetime(str(i))for i in self.dates_lst]\n",
    "        self.dates_lst = [i.strftime('%Y-%m-%d') for i in self.dates_lst]\n",
    "\n",
    "        self.ssid = random.choice(list(dataops.pv_power))\n",
    "        print(\"Randomly selected SSID is \", self.ssid)\n",
    "                    \n",
    "    def xr_to_df(self)-> None:\n",
    "        \"\"\"\n",
    "        converts xarray dataset into a pandas dataframe\n",
    "        \"\"\"\n",
    "        ssid = self.ssid\n",
    "        self.date_oi = random.choice(self.dates_lst)\n",
    "        print(\"Randomly selected date is\", self.date_oi)\n",
    "        self.date_1 = datetime.strptime(self.date_oi, '%Y-%m-%d')\n",
    "        self.next_day = self.date_1+timedelta(days=1)\n",
    "        self.on_pv_system = dataops.pv_power[ssid].to_dataframe()\n",
    "        self.on_pv_system = self.on_pv_system[(self.on_pv_system.index < self.next_day)&(self.on_pv_system.index > self.date_1)]\n",
    "        print(self.on_pv_system)\n",
    "    \n",
    "    def display(self):\n",
    "        \"\"\"\n",
    "        Plot the PV output of the day that is randomly selected with SSID and a date\n",
    "        \"\"\"\n",
    "        fig = plt.figure()\n",
    "        plt.plot(self.on_pv_system)\n",
    "        fig.suptitle(\"One-day PV output time-series\", fontsize = 10)\n",
    "        plt.ylabel('Power output KWh', fontsize = 10)\n",
    "        plt.xlabel(self.date_oi, fontsize = 10)\n",
    "        plt.xticks([])\n",
    "\n",
    "if __name__==\"__main__\":\n",
    "    xrdf = xr_df()\n",
    "    xrdf.random_choice()\n",
    "    xrdf.xr_to_df()\n",
    "    xrdf.display()\n"
   ]
  }
 ],
 "metadata": {
  "kernelspec": {
   "display_name": "Python 3.10.6 ('pv_data_eda')",
   "language": "python",
   "name": "python3"
  },
  "language_info": {
   "codemirror_mode": {
    "name": "ipython",
    "version": 3
   },
   "file_extension": ".py",
   "mimetype": "text/x-python",
   "name": "python",
   "nbconvert_exporter": "python",
   "pygments_lexer": "ipython3",
   "version": "3.10.6"
  },
  "orig_nbformat": 4,
  "vscode": {
   "interpreter": {
    "hash": "d005e23926556d8b766634c856ca62b570e3a1b36a4ac7eae16508f00e83ec56"
   }
  }
 },
 "nbformat": 4,
 "nbformat_minor": 2
}
